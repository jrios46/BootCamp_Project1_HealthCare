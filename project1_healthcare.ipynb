{
 "cells": [
  {
   "cell_type": "code",
   "execution_count": null,
   "metadata": {},
   "outputs": [],
   "source": [
    "import pandas as pd \n",
    "import numpy as np\n",
    "\n",
    "df_us_20208 = pd.read_csv('Resources/us202208.csv')\n",
    "\n",
    "df_us_20208"
   ]
  },
  {
   "cell_type": "code",
   "execution_count": null,
   "metadata": {},
   "outputs": [],
   "source": [
    "# # Rename columns needed.\n",
    "df_us_20208_summary = df_us_20208.rename(columns={\n",
    "                                        \"D1_A\": \"AGE\",\n",
    "                                        \"D1_G\": \"GENDER\",\n",
    "                                        \"VAXANY\": \"VACCINE STATUS\",\n",
    "                                        \"L7\": \"TRUST\",\n",
    "                                        \"Xp6\": \"POS-CASES\",\n",
    "                                        \"CVAX4\": \"TRUST GOV\",\n",
    "                                        \"D0\": \"HEALTHY\",\n",
    "                                        \"D2\": \"STATE\",\n",
    "                                        \"D3\": \"RURAL\",\n",
    "                                        \"D4\": \"INCOME\",\n",
    "                                        \"D5_E\": \"HISPANIC\",\n",
    "                                        \"D5_M\": \"RACE\",\n",
    "                                        \"D6\": \"RELIGION\",\n",
    "                                        \"D6_E\": \"RELIGIOUS\",\n",
    "                                        \"D7\": \"HEALTH COVERAGE\",\n",
    "                                        \"D8\": \"POLITICS\",\n",
    "                                        \"D9\": \"WORK STATUS\",\n",
    "                                        \"D13\": \"ILLNESS\",\n",
    "                                        \"D15\": \"EDUCATION\",\n",
    "                                         })\n",
    "\n",
    "df_us_20208_summary\n",
    "\n"
   ]
  },
  {
   "cell_type": "code",
   "execution_count": null,
   "metadata": {},
   "outputs": [],
   "source": [
    "# Organize the data to only show the columns needed.\n",
    "df_organized_us_20208 = df_us_20208_summary[[\"AGE\", \"GENDER\", \"VACCINE STATUS\", \"TRUST\", \"POS-CASES\", \"TRUST GOV\", \"HEALTHY\", \"STATE\", \"RURAL\", \"INCOME\", \"HISPANIC\", \"RACE\", \"RELIGION\", \"RELIGIOUS\", \"HEALTH COVERAGE\", \"POLITICS\", \"WORK STATUS\", \"ILLNESS\", \"EDUCATION\"]]\n",
    "df_organized_us_20208\n",
    "df_organized_us_20208['EDUCATION'].value_counts()"
   ]
  },
  {
   "cell_type": "code",
   "execution_count": null,
   "metadata": {},
   "outputs": [],
   "source": [
    "# Dictionary mapping numerical values to gender labels\n",
    "numerical_to_gender = {1: 'Male', 2: 'Female', 3: 'Other'}\n",
    "\n",
    "# Replace numerical values with gender labels in the GENDER column\n",
    "df_organized_us_20208.loc[:, 'GENDER'] = df_organized_us_20208['GENDER'].map(numerical_to_gender)\n",
    "df_organized_us_20208\n",
    "\n"
   ]
  },
  {
   "cell_type": "code",
   "execution_count": null,
   "metadata": {},
   "outputs": [],
   "source": [
    "# Dictionary mapping numerical values to vaccine status\n",
    "numerical_to_vaccine_status = {1: 'Yes', 2: 'No'}\n",
    "\n",
    "# Replace numerical values with vaccine status\n",
    "df_organized_us_20208.loc[:, 'VACCINE STATUS'] = df_organized_us_20208['VACCINE STATUS'].map(numerical_to_vaccine_status)\n",
    "df_organized_us_20208"
   ]
  },
  {
   "cell_type": "code",
   "execution_count": null,
   "metadata": {},
   "outputs": [],
   "source": [
    "df_organized_us_20208['HEALTHY'].value_counts()\n"
   ]
  },
  {
   "cell_type": "code",
   "execution_count": null,
   "metadata": {},
   "outputs": [],
   "source": [
    "# Dictionary mapping numerical values to trust in vaccines\n",
    "numerical_to_trust_vaccine = {'1': 'Strongly disagree', '2': 'Disagree', '3': 'Neither agree nor disagree', '4': 'Agree', '5': 'Strongly agree', '.': 'n/a'}\n",
    "\n",
    "# Replace numerical values with trust in vaccine labels in the TRUST column\n",
    "df_organized_us_20208.loc[:, 'TRUST'] = df_organized_us_20208['TRUST'].astype(str).map(numerical_to_trust_vaccine)\n",
    "df_organized_us_20208"
   ]
  },
  {
   "cell_type": "code",
   "execution_count": null,
   "metadata": {},
   "outputs": [],
   "source": [
    "# Dictionary mapping numerical values to gender labels\n",
    "numerical_to_pos_cases= {'1':'Once', '2': 'Twice', '3': 'Three or more', '.': 'None'}\n",
    "# Replace numerical values with gender labels in the GENDER column using .loc\n",
    "df_organized_us_20208.loc[:,'POS-CASES'] = df_organized_us_20208['POS-CASES'].astype(str).map(numerical_to_pos_cases)\n",
    "# Dictionary mapping numerical values to gender labels\n",
    "numerical_to_trust_gov = {'1': 'I have not changed how much I trust them', '2': 'Now trust them more', 3: 'I now trust them less', '.': 'NA'}\n",
    "# Replace numerical values with gender labels in the GENDER column using .loc\n",
    "df_organized_us_20208.loc[:,'TRUST GOV'] = df_organized_us_20208['TRUST GOV'].astype(str).map(numerical_to_trust_gov)\n",
    "# Dictionary mapping numerical values to gender labels\n",
    "numerical_to_healthy = {'1': 'Very good', '2': 'Good', '3': 'Fair',  '4': 'Poor', '5': 'Very Poor', '.': 'NA'}\n",
    "# Replace numerical values with gender labels in the GENDER column using .loc\n",
    "df_organized_us_20208.loc[:,'HEALTHY'] = df_organized_us_20208['HEALTHY'].astype(str).map(numerical_to_healthy)\n",
    "# Dictionary mapping numerical values to gender labels\n",
    "numerical_to_state = {\n",
    "                            '1': 'Alabama',\n",
    "                            '2': 'Alaska',\n",
    "                            '3': 'Arizona',\n",
    "                            '4': 'Arkansas',\n",
    "                            '5': 'California',\n",
    "                            '6': 'Colorado',\n",
    "                            '7': 'Connecticut',\n",
    "                            '8': 'Delaware',\n",
    "                            '9': 'District of Columbia',\n",
    "                            '10': 'Florida',\n",
    "                            '11': 'Georgia',\n",
    "                            '12': 'Hawaii',\n",
    "                            '13': 'Idaho',\n",
    "                            '14': 'Illinois',\n",
    "                            '15': 'Indiana',\n",
    "                            '16': 'Iowa',\n",
    "                            '17': 'Kansas',\n",
    "                            '18': 'Kentucky',\n",
    "                            '19': 'Louisiana',\n",
    "                            '20': 'Maine',\n",
    "                            '21': 'Maryland',\n",
    "                            '22': 'Massachusetts',\n",
    "                            '23': 'Michigan',\n",
    "                            '24': 'Minnesota',\n",
    "                            '25': 'Mississippi',\n",
    "                            '26': 'Missouri',\n",
    "                            '27': 'Montana',\n",
    "                            '28': 'Nebraska',\n",
    "                            '29': 'Nevada',\n",
    "                            '30': 'New Hampshire',\n",
    "                            '31': 'New Jersey',\n",
    "                            '32': 'New Mexico',\n",
    "                            '33': 'New York',\n",
    "                            '34': 'North Carolina',\n",
    "                            '35': 'North Dakota',\n",
    "                            '36': 'Ohio',\n",
    "                            '37': 'Oklahoma',\n",
    "                            '38': 'Oregon',\n",
    "                            '39': 'Pennsylvania',\n",
    "                            '40': 'Rhode Island',\n",
    "                            '41': 'South Carolina',\n",
    "                            '42': 'South Dakota',\n",
    "                            '43': 'Tennessee',\n",
    "                            '44': 'Texas',\n",
    "                            '45': 'Utah',\n",
    "                            '46': 'Vermont',\n",
    "                            '47': 'Virginia',\n",
    "                            '48': 'Washington',\n",
    "                            '49': 'West Virginia',\n",
    "                            '50': 'Wisconsin',\n",
    "                            '51': 'Wyoming',\n",
    "                            '52':'American Samoa',\n",
    "                            '53':'Guam',\n",
    "                            '54':'Northern Mariana Islands',\n",
    "                            '55':'Puerto Rico',\n",
    "                            '56':'Virgin Islands',\n",
    "                            '.': 'NA'\n",
    "}\n",
    "# Replace numerical values with gender labels in the GENDER column using .loc\n",
    "df_organized_us_20208.loc[:,'STATE'] = df_organized_us_20208['STATE'].astype(str).map(numerical_to_state)\n",
    "\n",
    "# Dictionary mapping numerical values to gender labels\n",
    "numerical_to_rural = {1: 'Yes', 2: 'No'}\n",
    "# Replace numerical values with gender labels in the GENDER column using .loc\n",
    "df_organized_us_20208.loc[:,'RURAL'] = df_organized_us_20208['RURAL'].map(numerical_to_rural)\n",
    "\n",
    "#Dictionary mapping numerical values to education labels\n",
    "numerical_to_education = {\n",
    "    '1': 'Never attended school',\n",
    "    '2': 'Grades 1 through 8',\n",
    "    '3':'Grades 9 through 11',\n",
    "    '4': 'Grade 12 or GED',\n",
    "    '5': 'Some college, Associate’s Degree, or Technical Degree',\n",
    "    '6': 'Bachelor’s Degree',\n",
    "    '7': 'Any post graduate studies'}\n",
    "# Replace numerical values with education labels in the education column using .loc\n",
    "df_organized_us_20208.loc[:, 'EDUCATION'] = df_organized_us_20208['EDUCATION'].astype(str).map(numerical_to_education)\n",
    "#Dictionary mapping numerical values to illness labels\n",
    "numerical_to_illness = {1: 'Yes', 2: 'No', 3: 'Dont know'}\n",
    "# Replace numerical values with illness labels in the education column using .loc\n",
    "df_organized_us_20208.loc[:, 'ILLNESS'] = df_organized_us_20208['ILLNESS'].map(numerical_to_illness)\n",
    "#Dictionary mapping numerical values to work_status labels\n",
    "numerical_to_work_status = {1: 'Employed for wages', 2: 'Self-employed', 3: 'Out of work for 1 yr or more', 4: 'Out of work for less than 1 yr', 5: 'A Homemaker', 6: 'A Student', 7: 'Retired', 8: 'Unable to work'}\n",
    "# Replace numerical values with work_status labels in the work_status column using .loc\n",
    "df_organized_us_20208.loc[:, 'WORK STATUS'] = df_organized_us_20208['WORK STATUS'].map(numerical_to_work_status)\n",
    "#Dictionary mapping numerical values to politics labels\n",
    "numerical_to_politics = {1: 'Democrat', 2: 'Independent', 3: 'Republican'}\n",
    "# Replace numerical values with politics labels in the work_status column using .loc\n",
    "df_organized_us_20208.loc[:, 'POLITICS'] = df_organized_us_20208['POLITICS'].map(numerical_to_politics)\n",
    "\n",
    "\n",
    "df_organized_us_20208"
   ]
  },
  {
   "cell_type": "code",
   "execution_count": null,
   "metadata": {},
   "outputs": [],
   "source": [
    "# Dictionary mapping numerical values to Hispanic\n",
    "numerical_to_hispanic = {'1': 'Yes', '2': 'No'}\n",
    "# Replace numerical values with Hispanic labels in the HISPANIC column using .loc\n",
    "df_organized_us_20208.loc[:, 'HISPANIC'] = df_organized_us_20208['HISPANIC'].astype(str).map(numerical_to_hispanic)\n",
    "\n",
    "# Dictionary mapping numerical values to Race\n",
    "numerical_to_race = {'1': 'White', '2': 'Black or African American', '3': 'American Indian or Alaska Native', '4': 'Asian', '5': 'Pacific Islander', '.': 'N/A'}\n",
    "# Replace numerical values with race labels in the RACE column using .loc\n",
    "df_organized_us_20208.loc[:,'RACE'] = df_organized_us_20208['RACE'].astype(str).map(numerical_to_race)\n",
    "# Dictionary mapping numerical values to Religion\n",
    "numerical_to_religion = {'1': 'Protestant', '2': 'Roman Catholic', '3': 'Mormon', '4': 'Orthodox (such as Greek or Russian Orthodox', '5': 'Other or nondenominational Christian','6': 'Jewish', '7': 'Muslim', '8': 'Buddhist', '9': 'Hindu', '10': 'Atheist', '11': 'Agnostic', '12': 'Something else', '13': 'Nothing in particular'}\n",
    "# Replace numerical values with religion labels in the RELIGION column using .loc\n",
    "df_organized_us_20208.loc[:,'RELIGION'] = df_organized_us_20208['RELIGION'].astype(str).map(numerical_to_religion)\n",
    "# Dictionary mapping numerical values to religious labels\n",
    "numerical_to_religious = {'1': 'Yes', '2': 'No', '.': 'N/A'}\n",
    "# Replace numerical values with religious labels in the RELIGIOUS column using .loc\n",
    "df_organized_us_20208.loc[:,'RELIGIOUS'] = df_organized_us_20208['RELIGIOUS'].astype(str).map(numerical_to_religious)\n",
    "# Dictionary mapping numerical values to religious labels\n",
    "numerical_to_health_coverage = {'1': 'A plan purchased through an employer or union', '2': 'A plan that you or another family member buys on your own', '3': 'Medicare', '4': 'Medicaid or other state program', '5': 'TRICARE (formerly CHAMPUS), VA, or Military', '6': 'Alaska Native, Indian Health Service, Tribal Health Services', '7': 'Some other source', '.': 'N/A'}\n",
    "# Replace numerical values with health coverage labels in the HEALTH COVERAGE column using .loc\n",
    "df_organized_us_20208.loc[:,'HEALTH COVERAGE'] = df_organized_us_20208['HEALTH COVERAGE'].astype(str).map(numerical_to_health_coverage)\n",
    "\n",
    "df_organized_us_20208"
   ]
  },
  {
   "cell_type": "code",
   "execution_count": null,
   "metadata": {},
   "outputs": [],
   "source": [
    "df_organized_us_20208['STATE'].value_counts()"
   ]
  },
  {
   "cell_type": "code",
   "execution_count": null,
   "metadata": {},
   "outputs": [],
   "source": [
    "POLITICS = df_organized_us_20208['POLITICS'].value_counts()\n",
    "RELIGION = df_organized_us_20208['RELIGION'].value_counts()\n",
    "TRUS  = df_organized_us_20208['TRUST GOV'].value_counts()\n",
    "EDUCATION = df_organized_us_20208['EDUCATION'].value_counts()\n",
    "print(EDUCATION)\n",
    "GENDER = df_organized_us_20208['GENDER'].value_counts()\n",
    "RACE = df_organized_us_20208['RACE'].value_counts()\n",
    "\n",
    "GENDER, POLITICS, TRUS, RELIGION, RACE\n"
   ]
  },
  {
   "cell_type": "code",
   "execution_count": null,
   "metadata": {},
   "outputs": [],
   "source": [
    "vaccinated_people_filtered = df_organized_us_20208.loc[(df_organized_us_20208['VACCINE STATUS'].str.contains(\"Yes\"))]\n",
    "\n",
    "vaccinated_people_filtered "
   ]
  },
  {
   "cell_type": "code",
   "execution_count": null,
   "metadata": {},
   "outputs": [],
   "source": [
    "\n",
    "vaccinated_people_filtered ['STATE'].value_counts().sort_values(ascending=False)\n",
    "\n"
   ]
  },
  {
   "cell_type": "code",
   "execution_count": null,
   "metadata": {},
   "outputs": [],
   "source": [
    "EDUCATION = df_organized_us_20208['EDUCATION'].value_counts()\n",
    "\n",
    "print(EDUCATION)"
   ]
  },
  {
   "cell_type": "code",
   "execution_count": null,
   "metadata": {},
   "outputs": [],
   "source": [
    "\n",
    "\n",
    "vaccinated_people_filtered ['EDUCATION'].value_counts().sort_values(ascending=False)"
   ]
  },
  {
   "cell_type": "code",
   "execution_count": null,
   "metadata": {},
   "outputs": [],
   "source": [
    "POLITICS_Y = vaccinated_people_filtered ['POLITICS'].value_counts()\n",
    "RELIGION_Y = vaccinated_people_filtered ['RELIGION'].value_counts()\n",
    "TRUS_Y  = vaccinated_people_filtered ['TRUST GOV'].value_counts()\n",
    "\n",
    "\n",
    "RACE_Y  = vaccinated_people_filtered ['RACE'].value_counts()\n",
    "\n",
    "POLITICS_Y, TRUS_Y, RELIGION_Y, RACE_Y"
   ]
  },
  {
   "cell_type": "code",
   "execution_count": null,
   "metadata": {},
   "outputs": [],
   "source": [
    "AGE_Y  = vaccinated_people_filtered ['AGE'].value_counts()\n",
    "\n",
    "AGE_Y.head(40)"
   ]
  },
  {
   "cell_type": "code",
   "execution_count": null,
   "metadata": {},
   "outputs": [],
   "source": [
    "GENDER  = vaccinated_people_filtered ['GENDER'].value_counts()\n",
    "GENDER"
   ]
  }
 ],
 "metadata": {
  "kernelspec": {
   "display_name": "base",
   "language": "python",
   "name": "python3"
  },
  "language_info": {
   "codemirror_mode": {
    "name": "ipython",
    "version": 3
   },
   "file_extension": ".py",
   "mimetype": "text/x-python",
   "name": "python",
   "nbconvert_exporter": "python",
   "pygments_lexer": "ipython3",
   "version": "3.10.14"
  }
 },
 "nbformat": 4,
 "nbformat_minor": 2
}
